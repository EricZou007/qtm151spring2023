{
 "cells": [
  {
   "attachments": {},
   "cell_type": "markdown",
   "metadata": {},
   "source": [
    "# <span style=\"color:darkblue\"> QTM 151 - Final Project </span>"
   ]
  },
  {
   "attachments": {},
   "cell_type": "markdown",
   "metadata": {},
   "source": [
    "<font size=\"5\"> \n",
    "\n",
    "Group Number"
   ]
  },
  {
   "cell_type": "code",
   "execution_count": 1,
   "metadata": {},
   "outputs": [
    {
     "name": "stdout",
     "output_type": "stream",
     "text": [
      "Eric Zou Harris Wang Zhenan An William Xu\n"
     ]
    }
   ],
   "source": [
    "print(\"Eric Zou\", \"Harris Wang\", \"Zhenan An\", \"William Xu\")"
   ]
  },
  {
   "attachments": {},
   "cell_type": "markdown",
   "metadata": {},
   "source": [
    "<font size=\"5\"> \n",
    "\n",
    "Set Up"
   ]
  },
  {
   "cell_type": "code",
   "execution_count": 42,
   "metadata": {},
   "outputs": [],
   "source": [
    "import matplotlib.pyplot as plt\n",
    "import pandas as pd\n",
    "from   matplotlib import style\n",
    "from   matplotlib import ticker\n",
    "import matplotlib.dates as mdates\n",
    "import numpy as np\n",
    "\n",
    "circuits = pd.read_csv(\"data_raw/circuits.csv\")\n",
    "constructor_result = pd.read_csv(\"data_raw/constructor_results.csv\")\n",
    "constructor_standing = pd.read_csv(\"data_raw/constructor_standings.csv\")\n",
    "constructor = pd.read_csv(\"data_raw/constructors.csv\")\n",
    "drivers = pd.read_csv(\"data_raw/drivers.csv\")\n",
    "driver_standing = pd.read_csv(\"data_raw/driver_standings.csv\")\n",
    "results = pd.read_csv(\"data_raw/results.csv\")\n",
    "qualifying = pd.read_csv(\"data_raw/qualifying.csv\")\n",
    "lap_time = pd.read_csv(\"data_raw/lap_times.csv\")\n",
    "pit_stops = pd.read_csv(\"data_raw/pit_stops.csv\")\n",
    "seasons = pd.read_csv(\"data_raw/seasons.csv\")\n",
    "races = pd.read_csv(\"data_raw/races.csv\")\n",
    "status = pd.read_csv(\"data_raw/status.csv\")\n",
    "sprint_result = pd.read_csv(\"data_raw/sprint_results.csv\")\n"
   ]
  },
  {
   "attachments": {},
   "cell_type": "markdown",
   "metadata": {},
   "source": [
    "<font size=\"5\"> \n",
    "\n",
    "Question 1: which countries produce the best driver"
   ]
  },
  {
   "cell_type": "code",
   "execution_count": 68,
   "metadata": {},
   "outputs": [
    {
     "name": "stdout",
     "output_type": "stream",
     "text": [
      "[nan]\n",
      "                mean_rank\n",
      "constructorRef           \n",
      "mercedes         5.286267\n",
      "brawn            5.424242\n",
      "ferrari          5.688615\n",
      "red_bull         6.709251\n",
      "bar              7.985075\n",
      "...                   ...\n",
      "vhristensen           NaN\n",
      "watson                NaN\n",
      "wetteroth             NaN\n",
      "wolf                  NaN\n",
      "zakspeed              NaN\n",
      "\n",
      "[211 rows x 1 columns]\n"
     ]
    },
    {
     "data": {
      "image/png": "[encoded data removed]",
      "text/plain": [
       "<Figure size 1000x500 with 1 Axes>"
      ]
     },
     "metadata": {},
     "output_type": "display_data"
    }
   ],
   "source": [
    "constructor_merge = pd.merge(constructor,\n",
    "                        results[[\"constructorId\", \"rank\"]],\n",
    "                        on=\"constructorId\",\n",
    "                        how=\"left\")\n",
    "\n",
    "constructor_merge[\"rank\"] = pd.to_numeric(constructor_merge[\"rank\"], errors = \"coerce\")\n",
    "subset = constructor_merge[constructor_merge[\"rank\"].isna()]\n",
    "list_unique = subset[\"rank\"].unique()\n",
    "print(list_unique)\n",
    "\n",
    "list_old = [\"\\\\N\"]\n",
    "list_new = [np.nan]\n",
    "constructor_merge[\"rank\"] = constructor_merge[\"rank\"].replace(list_old, list_new)\n",
    "\n",
    "constructor.dtypes\n",
    "\n",
    "print(constructor_merge.groupby(\"constructorRef\")\n",
    "                        .agg(mean_rank = (\"rank\", \"mean\"))\n",
    "                        .sort_values(\"mean_rank\", ascending = True))\n",
    "\n",
    "\n",
    "team_mean_rank = constructor_merge.groupby(\"constructorRef\")[\"rank\"].mean().sort_values(ascending=True)\n",
    "top_5_team = team_mean_rank.nsmallest(5)\n",
    "\n",
    "plt.figure(figsize=(10, 5))\n",
    "plt.bar(top_5_team.index, top_5_team.values)\n",
    "\n",
    "plt.title(\"Mean Rank by team\")\n",
    "plt.xlabel(\"Team\")\n",
    "plt.ylabel(\"Mean Rank\")\n",
    "\n",
    "plt.show()\n",
    "\n",
    "                        \n",
    "\n"
   ]
  },
  {
   "cell_type": "markdown",
   "metadata": {},
   "source": [
    "<font size=\"5\"> \n",
    "\n",
    "Question 2: we choose to analyize the three of these five team: mercedes, ferrari, and red bull."
   ]
  },
  {
   "cell_type": "code",
   "execution_count": 132,
   "metadata": {},
   "outputs": [
    {
     "name": "stdout",
     "output_type": "stream",
     "text": [
      "0.3283582089552239\n",
      "0.375\n"
     ]
    }
   ],
   "source": [
    "\n",
    "\n",
    "list_team = [\"mercedes\", \"red_bull\"]\n",
    "\n",
    "constructor_team = constructor_merge.query(\"constructorRef in @list_team\")\n",
    "\n",
    "team_merge = pd.merge(constructor_team,\n",
    "                      results[[\"constructorId\", \"position\", \"rank\", \"driverId\"]],\n",
    "                      on=\"constructorId\",\n",
    "                      how=\"left\")\n",
    "\n",
    "list_old = [\"\\\\N\"]\n",
    "list_new = [pd.NA]\n",
    "team_merge[\"position\"] = team_merge[\"position\"].replace(list_old, list_new)\n",
    "team_merge[\"rank_y\"] = team_merge[\"rank_y\"].replace(list_old, list_new)\n",
    "\n",
    "team_merge.dropna(subset=[\"position\", \"rank_y\"], inplace=True)\n",
    "\n",
    "team_merge[\"position\"] = pd.to_numeric(team_merge[\"position\"])\n",
    "team_merge[\"rank_y\"] = pd.to_numeric(team_merge[\"rank_y\"])\n",
    "\n",
    "\n",
    "team_merge.dtypes\n",
    "\n",
    "team1 = \"mercedes\"\n",
    "team2 = \"red_bull\"\n",
    "\n",
    "team1_data = team_merge[team_merge[\"constructorRef\"] == team1].sort_values(by=\"rank_y\")\n",
    "team2_data = team_merge[team_merge[\"constructorRef\"] == team2].sort_values(by=\"rank_y\")\n",
    "\n",
    "\n",
    "team1_diff = team1_data[\"rank_y\"] - team1_data[\"position\"]\n",
    "team2_diff = team2_data[\"rank_y\"] - team2_data[\"position\"]\n",
    "\n",
    "print(team1_diff.mean())\n",
    "print(team2_diff.mean())\n"
   ]
  }
 ],
 "metadata": {
  "kernelspec": {
   "display_name": "base",
   "language": "python",
   "name": "python3"
  },
  "language_info": {
   "codemirror_mode": {
    "name": "ipython",
    "version": 3
   },
   "file_extension": ".py",
   "mimetype": "text/x-python",
   "name": "python",
   "nbconvert_exporter": "python",
   "pygments_lexer": "ipython3",
   "version": "3.9.13"
  },
  "orig_nbformat": 4
 },
 "nbformat": 4,
 "nbformat_minor": 2
}
