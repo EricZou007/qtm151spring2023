{
 "cells": [
  {
   "attachments": {},
   "cell_type": "markdown",
   "metadata": {},
   "source": [
    "# Assignment 5"
   ]
  },
  {
   "attachments": {},
   "cell_type": "markdown",
   "metadata": {},
   "source": [
    "## Try to submit as an HTML file"
   ]
  },
  {
   "attachments": {},
   "cell_type": "markdown",
   "metadata": {},
   "source": [
    "<font size = \"5\">\n",
    "Print your name below"
   ]
  },
  {
   "cell_type": "code",
   "execution_count": null,
   "metadata": {},
   "outputs": [],
   "source": [
    "print(\"Eric Zou\")"
   ]
  },
  {
   "attachments": {},
   "cell_type": "markdown",
   "metadata": {},
   "source": [
    "<font size = \"5\">\n",
    "\n",
    "Import the \"pandas\" library"
   ]
  },
  {
   "cell_type": "code",
   "execution_count": 1,
   "metadata": {},
   "outputs": [],
   "source": [
    "# Write your answer here:\n",
    "\n",
    "\n",
    "import pandas as pd\n"
   ]
  },
  {
   "attachments": {},
   "cell_type": "markdown",
   "metadata": {},
   "source": [
    "<font size = \"5\">\n",
    "\n",
    "Import the  \"os\" library\n",
    "\n",
    "- This is the \"operating system\" library\n",
    "- Helpful for managing folders"
   ]
  },
  {
   "cell_type": "code",
   "execution_count": 2,
   "metadata": {},
   "outputs": [],
   "source": [
    "# Write your answer here:\n",
    "\n",
    "\n",
    "import os\n"
   ]
  },
  {
   "attachments": {},
   "cell_type": "markdown",
   "metadata": {},
   "source": [
    "<font size = \"5\">\n",
    "(a) Store dataset in another folder\n",
    "\n",
    "<font size = \"3\">\n",
    "\n",
    "<br>\n",
    "\n",
    "\n",
    "- Create a variable: $\\quad$ ``` dataset_name  = \"wdi_2000.csv\" ```\n",
    "- Create a variable: $\\quad$ ``` old_directory = \"wdi_data/\" ```\n",
    "- Create a variable: $\\quad$ ``` new_directory = \"clean_data/\" ```\n",
    "- Create a variable \n",
    "$\\quad$ ``` old_path  = old_directory +  dataset_name```\n",
    "- Create a variable \n",
    "$\\quad$ ``` new_path  = new_directory +  dataset_name```\n",
    "- Read the the csv file in the old location and save it to the new location\n",
    "\n"
   ]
  },
  {
   "cell_type": "code",
   "execution_count": 5,
   "metadata": {},
   "outputs": [
    {
     "data": {
      "text/plain": [
       "'clean_data/wdi_2000.csv'"
      ]
     },
     "execution_count": 5,
     "metadata": {},
     "output_type": "execute_result"
    }
   ],
   "source": [
    "# Write your answer here:\n",
    "\n",
    "import shutil\n",
    "\n",
    "dataset_name = \"wdi_2000.csv\"\n",
    "old_directory = \"wdi_data/\"\n",
    "new_directory = \"clean_data/\"\n",
    "\n",
    "old_path = os.path.join(old_directory, dataset_name)\n",
    "new_path = os.path.join(new_directory, dataset_name)\n",
    "\n",
    "shutil.move(old_path, new_path)\n",
    "\n"
   ]
  },
  {
   "attachments": {},
   "cell_type": "markdown",
   "metadata": {},
   "source": [
    "<font size = \"5\">\n",
    "\n",
    "(b) Check the working directory\n",
    "\n",
    "<font size = \"3\">\n",
    "\n",
    "- We will use a new command \"os.getcwd()\"\n",
    "- This shows you the current working directory (CWD) in your computer\n",
    "- This is usually the folder where your Python notebook is stored\n",
    "\n",
    "Run the following commands:\n",
    "\n",
    "- Get CWD: ``` current_directory = os.getcwd() ```\n",
    "- Print CWD: ``` print(current_directory) ```\n"
   ]
  },
  {
   "cell_type": "code",
   "execution_count": 6,
   "metadata": {},
   "outputs": [
    {
     "name": "stdout",
     "output_type": "stream",
     "text": [
      "/Users/chengruzou/Desktop/qtm151spring2023/Assignment 5\n"
     ]
    }
   ],
   "source": [
    "# Write your answer here\n",
    "\n",
    "current_directory = os.getcwd()\n",
    "print(current_directory)\n",
    "\n",
    "\n",
    "\n"
   ]
  },
  {
   "attachments": {},
   "cell_type": "markdown",
   "metadata": {},
   "source": [
    "<font size = \"5\">\n",
    "\n",
    "(c) Extract files from a directory\n",
    "\n",
    "<font size = \"3\" >\n",
    "- Get a list of files in the \"wdi_data\" folder\n",
    "\n",
    " ``` list_filesnames = os.listdir(\"wdi_data\") ```\n",
    "\n",
    " - Print the list of files\n",
    " - Create an empty list called ```list_csv_files ```\n",
    " - Run a for-loop over ```list_files```\n",
    " - Append each element to ```list_csv_files ``` if its name ends in \".csv\"\n",
    " - Print ```list_csv_files ```\n",
    "\n",
    " The goal is to list all CSV files in the directory\n",
    "\n",
    " HINT:\n",
    " - Read the lecture on boolean variables\n",
    " - Use \"in\" to check whether \".csv\" is part of the filename\n",
    " "
   ]
  },
  {
   "cell_type": "code",
   "execution_count": 12,
   "metadata": {},
   "outputs": [
    {
     "name": "stdout",
     "output_type": "stream",
     "text": [
      "['wdi_2020.csv', 'features.xlsx']\n",
      "['wdi_2020.csv']\n"
     ]
    }
   ],
   "source": [
    "# Write your answer here:\n",
    "\n",
    "\n",
    "list_filesnames = os.listdir(\"wdi_data\")\n",
    "\n",
    "print(list_filesnames)\n",
    "list_csv_files = []\n",
    "\n",
    "for list in list_filesnames:\n",
    "    if list.endswith(\".csv\"):\n",
    "        list_csv_files.append(list)\n",
    "\n",
    "print(list_csv_files)\n"
   ]
  },
  {
   "attachments": {},
   "cell_type": "markdown",
   "metadata": {},
   "source": [
    "<font size = \"5\">\n",
    "\n",
    "(d) Define a function that computes $ V = \\frac{P}{1+ r} $\n",
    "\n",
    "<font size = \"3\">\n",
    "\n",
    "- Define a function with parameters $(P,r)$\n",
    "- Then calculate the value of $P$ for the following cases\n",
    "\n",
    "$\\quad $ $ (P = 10, r = 0.05)$ <br>\n",
    "$\\quad $ $ (P = 10, r = 0.09)$\n",
    "\n",
    "- Print the resulting output"
   ]
  },
  {
   "cell_type": "code",
   "execution_count": 9,
   "metadata": {},
   "outputs": [
    {
     "name": "stdout",
     "output_type": "stream",
     "text": [
      "9.523809523809524\n",
      "9.174311926605505\n"
     ]
    }
   ],
   "source": [
    "# Write your answer here\n",
    "\n",
    "\n",
    "def fn_compute_value(P,r):\n",
    "    V = P / (1+r)\n",
    "    return V\n",
    "\n",
    "v1 = fn_compute_value(10,0.05)\n",
    "v2 = fn_compute_value(10,0.09)\n",
    "\n",
    "print(v1)\n",
    "print(v2)"
   ]
  },
  {
   "attachments": {},
   "cell_type": "markdown",
   "metadata": {},
   "source": [
    "<font size = \"5\">\n",
    "\n",
    "(e) Repeat (d) but this time define a \"lambda\" function"
   ]
  },
  {
   "cell_type": "code",
   "execution_count": 11,
   "metadata": {},
   "outputs": [
    {
     "name": "stdout",
     "output_type": "stream",
     "text": [
      "9.523809523809524\n",
      "9.174311926605505\n"
     ]
    }
   ],
   "source": [
    "# Write your answer here\n",
    "\n",
    "fn_sum = lambda P, r: P/(1+r)\n",
    "\n",
    "v1 = fn_sum(P= 10,r = 0.05)\n",
    "v2 = fn_sum(P = 10, r = 0.09)\n",
    "\n",
    "print(v1)\n",
    "print(v2)\n",
    "\n",
    "\n"
   ]
  },
  {
   "attachments": {},
   "cell_type": "markdown",
   "metadata": {},
   "source": [
    "<font size = \"5\">"
   ]
  }
 ],
 "metadata": {
  "kernelspec": {
   "display_name": "base",
   "language": "python",
   "name": "python3"
  },
  "language_info": {
   "codemirror_mode": {
    "name": "ipython",
    "version": 3
   },
   "file_extension": ".py",
   "mimetype": "text/x-python",
   "name": "python",
   "nbconvert_exporter": "python",
   "pygments_lexer": "ipython3",
   "version": "3.9.13"
  },
  "orig_nbformat": 4,
  "vscode": {
   "interpreter": {
    "hash": "0db6eb7279b15cbfe18d0a88100aaabeece1adb1ba7b9c7401d90062136afaba"
   }
  }
 },
 "nbformat": 4,
 "nbformat_minor": 2
}
