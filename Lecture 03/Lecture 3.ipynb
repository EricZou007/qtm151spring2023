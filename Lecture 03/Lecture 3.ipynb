{
 "cells": [
  {
   "attachments": {},
   "cell_type": "markdown",
   "metadata": {},
   "source": [
    "# <span style=\"color:darkblue\"> Lecture 3: Mathematical Operations and Random Numbers </span>"
   ]
  },
  {
   "attachments": {},
   "cell_type": "markdown",
   "metadata": {},
   "source": [
    "<font size=\"5\"> \n",
    "\n",
    "In the previous class we:\n",
    "- Introduced lists and variable types\n",
    "- Talked about how to extract elements from a list"
   ]
  },
  {
   "attachments": {},
   "cell_type": "markdown",
   "metadata": {},
   "source": [
    "<font size=\"5\"> \n",
    "\n",
    "In this class we will:\n",
    "\n",
    "- Introduce a library for general mathematical operations\n",
    "- Generate random numbers\n",
    "- (Optional) Matrix operations"
   ]
  },
  {
   "attachments": {},
   "cell_type": "markdown",
   "metadata": {},
   "source": [
    "## <span style=\"color:darkblue\"> I. Import Libraries </span>"
   ]
  },
  {
   "cell_type": "code",
   "execution_count": 3,
   "metadata": {},
   "outputs": [],
   "source": [
    "# the \"numPy\" library is used for mathematical operations\n",
    "# the \"matplotlib\" library is for generating graphs\n",
    "\n",
    "import numpy as np\n",
    "import matplotlib.pyplot as plt\n"
   ]
  },
  {
   "attachments": {},
   "cell_type": "markdown",
   "metadata": {},
   "source": [
    "##  <span style=\"color:darkblue\"> II. Numbers and Functions </span>"
   ]
  },
  {
   "attachments": {},
   "cell_type": "markdown",
   "metadata": {},
   "source": [
    "<font size = \"5\" >\n",
    "Examples of numPy numbers"
   ]
  },
  {
   "cell_type": "code",
   "execution_count": 4,
   "metadata": {},
   "outputs": [
    {
     "data": {
      "text/plain": [
       "3.141592653589793"
      ]
     },
     "execution_count": 4,
     "metadata": {},
     "output_type": "execute_result"
    }
   ],
   "source": [
    "# Computes \"pi\" (3.14...)\n",
    "\n",
    "np.pi"
   ]
  },
  {
   "attachments": {},
   "cell_type": "markdown",
   "metadata": {},
   "source": [
    "<font size = \"5\" >\n",
    "\n",
    "Examples of numPy functions\n",
    "\n",
    "$ ln(x), e^x, sin(x), cos(x), \\sqrt{x}$"
   ]
  },
  {
   "cell_type": "code",
   "execution_count": 5,
   "metadata": {},
   "outputs": [
    {
     "name": "stdout",
     "output_type": "stream",
     "text": [
      "0.0\n",
      "2.718281828459045\n",
      "0.8414709848078965\n",
      "0.5403023058681398\n",
      "1.0\n"
     ]
    }
   ],
   "source": [
    "# log(x) computes the logarithm with base \"e\" (Euler constant)\n",
    "# exp(x) compute the Euler constant raised to the power of \"x\"\n",
    "# sing(x) computes the sine of x\n",
    "# cos(x) computes the cosine of x\n",
    "# In this example, we're substituting x = 1\n",
    "\n",
    "print(np.log(1))\n",
    "print(np.exp(1))\n",
    "print(np.sin(1))\n",
    "print(np.cos(1))\n",
    "print(np.sqrt(1))"
   ]
  },
  {
   "attachments": {},
   "cell_type": "markdown",
   "metadata": {},
   "source": [
    "<font size = \"5\">\n",
    "\n",
    "Try it yourself!\n",
    "\n",
    "- Create a new variable, $x = 5$\n",
    "- Compute $\\pi x^2$\n",
    "- Compute $ \\frac{1}{\\sqrt{2\\pi}}e^{-x^2} $"
   ]
  },
  {
   "cell_type": "code",
   "execution_count": 6,
   "metadata": {},
   "outputs": [
    {
     "data": {
      "text/plain": [
       "5.540487995575833e-12"
      ]
     },
     "execution_count": 6,
     "metadata": {},
     "output_type": "execute_result"
    }
   ],
   "source": [
    "# Include your answer here:\n",
    "\n",
    "\n",
    "x = 5\n",
    "np.pi * x**2\n",
    "\n",
    "(1/np.sqrt(2*np.pi)*np.exp(-x**2))\n",
    "\n",
    "\n",
    "\n",
    "\n",
    "\n",
    "\n"
   ]
  },
  {
   "attachments": {},
   "cell_type": "markdown",
   "metadata": {},
   "source": [
    "##  <span style=\"color:darkblue\"> III. Vector Arrays </span>"
   ]
  },
  {
   "attachments": {},
   "cell_type": "markdown",
   "metadata": {},
   "source": [
    "<font size = \"5\">\n",
    "Create an array from a list\n",
    "\n",
    "$ \\text{ }$\n",
    "$ a = \\begin{pmatrix} 1 \\\\ 2 \\\\ 3 \\end{pmatrix}\n",
    "\\qquad b = \\begin{pmatrix} 0 \\\\ 1 \\\\ 0\\end{pmatrix}\n",
    "\\qquad c = \\begin{pmatrix} 10 \\\\ 100 \\\\ 1000 \\\\ 2000 \\\\ 5000 \\end{pmatrix} \n",
    "\\qquad d = \\begin{pmatrix} 4 \\\\ 2 \\end{pmatrix} $"
   ]
  },
  {
   "cell_type": "code",
   "execution_count": 7,
   "metadata": {},
   "outputs": [],
   "source": [
    "# You create an array by converting a list [1,2,3] to a numeric object\n",
    "# \"array\" is a subfunction of the library numPy.\n",
    "\n",
    "vec_a  = np.array([1,2,3])\n",
    "vec_b  = np.array([0,1,0])\n",
    "vec_c  = np.array([10,100,1000,2000,5000])\n"
   ]
  },
  {
   "attachments": {},
   "cell_type": "markdown",
   "metadata": {},
   "source": [
    "<font size = \"5\">\n",
    "\n",
    "Accessing an element of an array"
   ]
  },
  {
   "cell_type": "code",
   "execution_count": 8,
   "metadata": {},
   "outputs": [
    {
     "name": "stdout",
     "output_type": "stream",
     "text": [
      "1\n",
      "2\n",
      "3\n",
      "0\n"
     ]
    }
   ],
   "source": [
    "# Arrays, like lists, start their numbering at zero.\n",
    "# You also access them with square brackets\n",
    "\n",
    "print(vec_a[0])\n",
    "\n",
    "print(vec_a[1])\n",
    "\n",
    "print(vec_a[2])\n",
    "\n",
    "print(vec_b[2])\n"
   ]
  },
  {
   "attachments": {},
   "cell_type": "markdown",
   "metadata": {},
   "source": [
    "<font size = \"5\">\n",
    "Operations with a single array and a scalar"
   ]
  },
  {
   "attachments": {},
   "cell_type": "markdown",
   "metadata": {},
   "source": [
    "<font size = \"5\">\n",
    "\n",
    "$ a + 2 = \\begin{pmatrix} a_1 + 2 \\\\ a_2 + 2 \\\\ a_3 + 2 \\end{pmatrix}$"
   ]
  },
  {
   "cell_type": "code",
   "execution_count": 9,
   "metadata": {},
   "outputs": [
    {
     "name": "stdout",
     "output_type": "stream",
     "text": [
      "[2 4 6]\n",
      "[0.5 1.  1.5]\n",
      "[3 4 5]\n",
      "[1 4 9]\n"
     ]
    }
   ],
   "source": [
    "# A scalar refers to either an int or float\n",
    "# We can do many common operations with \n",
    "\n",
    "print(vec_a * 2)\n",
    "print(vec_a / 2)\n",
    "print(vec_a + 2)\n",
    "print(vec_a ** 2)"
   ]
  },
  {
   "attachments": {},
   "cell_type": "markdown",
   "metadata": {},
   "source": [
    "<font size = \"5\">\n",
    "Element-by-element addition between two arrays of the same size\n",
    "\n",
    "$\\text{ }$\n",
    "\n",
    "$ a + b = \\begin{pmatrix} a_1 \\\\ a_2 \\\\ a_3 \\end{pmatrix} +\n",
    "          \\begin{pmatrix} b_1 \\\\ b_2 \\\\ b_3 \\end{pmatrix} =\n",
    "          \\begin{pmatrix} a_1 + b_1 \\\\ a_2 + b_2 \\\\ a_3 + b_3 \\end{pmatrix}$"
   ]
  },
  {
   "cell_type": "code",
   "execution_count": 10,
   "metadata": {},
   "outputs": [
    {
     "name": "stdout",
     "output_type": "stream",
     "text": [
      "[1 3 3]\n"
     ]
    }
   ],
   "source": [
    "# When you add two arrays of the same size,\n",
    "# Python adds the individual elements in each position\n",
    "\n",
    "print(vec_a + vec_b)\n"
   ]
  },
  {
   "attachments": {},
   "cell_type": "markdown",
   "metadata": {},
   "source": [
    "<font size =\"5\">\n",
    "\n",
    "The default multiplication option is element-by element:\n",
    "\n",
    "$ a * b = \\begin{pmatrix} a_1 * b_1 \\\\ a_2 * b_2 \\\\ a_3 * b_3 \\end{pmatrix}$"
   ]
  },
  {
   "cell_type": "code",
   "execution_count": 11,
   "metadata": {},
   "outputs": [
    {
     "name": "stdout",
     "output_type": "stream",
     "text": [
      "[0 2 0]\n",
      "[1 1 3]\n",
      "[inf  2. inf]\n"
     ]
    },
    {
     "name": "stderr",
     "output_type": "stream",
     "text": [
      "/var/folders/70/wslpk4jx0_xf7yjd_3v7bpk40000gn/T/ipykernel_58462/3839639845.py:6: RuntimeWarning: divide by zero encountered in divide\n",
      "  print(vec_a / vec_b)\n"
     ]
    }
   ],
   "source": [
    "# We can do other similar element-by-element operations\n",
    "# such as multiplication, subtraction, and division.\n",
    "\n",
    "print(vec_a * vec_b)\n",
    "print(vec_a - vec_b)\n",
    "print(vec_a / vec_b)\n"
   ]
  },
  {
   "attachments": {},
   "cell_type": "markdown",
   "metadata": {},
   "source": [
    "<font size = \"5\">\n",
    "Summary statistics of an array"
   ]
  },
  {
   "cell_type": "code",
   "execution_count": 12,
   "metadata": {},
   "outputs": [
    {
     "name": "stdout",
     "output_type": "stream",
     "text": [
      "2.0\n",
      "0.816496580927726\n",
      "1\n",
      "2.0\n",
      "3\n"
     ]
    }
   ],
   "source": [
    "# The function np.mean() computes the mean of an array\n",
    "# We can do similar operations for the standard deviation (std),\n",
    "# the minimum (min), the median (median), and the maximum (max).\n",
    "\n",
    "print(np.mean(vec_a))\n",
    "print(np.std(vec_a))\n",
    "print(np.min(vec_a))\n",
    "print(np.median(vec_a))\n",
    "print(np.max(vec_a))"
   ]
  },
  {
   "attachments": {},
   "cell_type": "markdown",
   "metadata": {},
   "source": [
    "<font size = \"5\">\n",
    "\n",
    "Try it yourself! Compute the mean of\n",
    "\n",
    "\n",
    "$ e = \\begin{pmatrix} 10 \\\\ 8 \\\\ 15 \\\\ 0 \\\\ 24 \\end{pmatrix} $"
   ]
  },
  {
   "cell_type": "code",
   "execution_count": 13,
   "metadata": {},
   "outputs": [
    {
     "name": "stdout",
     "output_type": "stream",
     "text": [
      "11.4\n",
      "62.8\n",
      "24\n"
     ]
    }
   ],
   "source": [
    "# Create your own array and compute any of the above summary statistics\n",
    "\n",
    "e = np.array([10,8,15,0,24])\n",
    "f = np.array([10,14,2,201,3])\n",
    "\n",
    "print(np.mean(e))\n",
    "print(np.mean(e*f))\n",
    "\n",
    "print(np.max(e))\n"
   ]
  },
  {
   "attachments": {},
   "cell_type": "markdown",
   "metadata": {},
   "source": [
    "<font size = \"5\">\n",
    "<span style=\"color:red\"> Common Pitfall </span>: Make sure that the arrays have the same size"
   ]
  },
  {
   "cell_type": "code",
   "execution_count": 14,
   "metadata": {},
   "outputs": [
    {
     "ename": "ValueError",
     "evalue": "operands could not be broadcast together with shapes (3,) (5,) ",
     "output_type": "error",
     "traceback": [
      "\u001b[0;31m---------------------------------------------------------------------------\u001b[0m",
      "\u001b[0;31mValueError\u001b[0m                                Traceback (most recent call last)",
      "Cell \u001b[0;32mIn[14], line 3\u001b[0m\n\u001b[1;32m      1\u001b[0m \u001b[39m# Here I try to combine two arrays of different size.\u001b[39;00m\n\u001b[0;32m----> 3\u001b[0m vec_a \u001b[39m+\u001b[39;49m vec_c\n",
      "\u001b[0;31mValueError\u001b[0m: operands could not be broadcast together with shapes (3,) (5,) "
     ]
    }
   ],
   "source": [
    "# Here I try to combine two arrays of different size.\n",
    "\n",
    "vec_a + vec_c"
   ]
  },
  {
   "attachments": {},
   "cell_type": "markdown",
   "metadata": {},
   "source": [
    "##  <span style=\"color:darkblue\"> IV. Random Numbers </span>\n",
    "\n",
    "<font size = \"5\">\n",
    "\n",
    "Why randomness?\n",
    "\n",
    "- Simulate different scenarios: high risk or low risk\n",
    "- Study properties of a complex system and/or estimator\n",
    "- In medicine, randomly assign subjects to treatment or control"
   ]
  },
  {
   "attachments": {},
   "cell_type": "markdown",
   "metadata": {},
   "source": [
    "<font size = \"5\">\n",
    "\n",
    "Create a vector of random variables"
   ]
  },
  {
   "cell_type": "code",
   "execution_count": null,
   "metadata": {},
   "outputs": [
    {
     "name": "stdout",
     "output_type": "stream",
     "text": [
      "[ 0.86258008 -0.0100319   0.05000936  0.67021559  0.85296503 -0.95586885\n",
      " -0.02349332 -2.30423388 -0.65246884 -1.21830198]\n"
     ]
    }
   ],
   "source": [
    "# This code creates a vector of random variables \n",
    "# generated from a normal distribution with\n",
    "# mean \"loc\" (location) and standard deviation \"scale\"\n",
    "# the number of distinct variabels is \"size\"\n",
    "\n",
    "randomvar_a = np.random.normal(loc=0, scale=1, size=10) # loc means the average, scale means standard deviation, and size is equal to 10\n",
    "print(randomvar_a)"
   ]
  },
  {
   "attachments": {},
   "cell_type": "markdown",
   "metadata": {},
   "source": [
    "<font size = \"5\">\n",
    "\n",
    "Random numbers differ every time!\n",
    "\n",
    "- Avoid this problem by drawing from a \"pregenerated\" set.\n",
    "- This is called a seed"
   ]
  },
  {
   "cell_type": "code",
   "execution_count": null,
   "metadata": {},
   "outputs": [
    {
     "name": "stdout",
     "output_type": "stream",
     "text": [
      "[ 1.62434536 -0.61175641 -0.52817175 -1.07296862  0.86540763 -2.3015387\n",
      "  1.74481176 -0.7612069   0.3190391  -0.24937038]\n"
     ]
    }
   ],
   "source": [
    "# Your computer will typically generate different numbers every time you run a command\n",
    "# However, sometimes you want to be able to replicate the results\n",
    "# You can choose any other number instead of \"12345\". This will produce another set\n",
    "# of random numbers, but they will give the same answers\n",
    "\n",
    "np.random.seed(1) # not random any more\n",
    "\n",
    "random_var_b = np.random.normal(loc=0, scale=1, size=10)\n",
    "print(random_var_b)"
   ]
  },
  {
   "attachments": {},
   "cell_type": "markdown",
   "metadata": {},
   "source": [
    "<font size = \"5\">\n",
    "\n",
    "Compute a histogram with the results"
   ]
  },
  {
   "cell_type": "code",
   "execution_count": null,
   "metadata": {},
   "outputs": [
    {
     "data": {
      "text/plain": [
       "Text(0, 0.5, 'Frequency')"
      ]
     },
     "execution_count": 56,
     "metadata": {},
     "output_type": "execute_result"
    },
    {
     "data": {
      "image/png": "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",
      "text/plain": [
       "<Figure size 640x480 with 1 Axes>"
      ]
     },
     "metadata": {},
     "output_type": "display_data"
    }
   ],
   "source": [
    "# Compute a histogram\n",
    "# You can edit the number of bins with plt.hist(x = randomvar_a)\n",
    "\n",
    "randomvar_x = np.random.normal(loc=0, scale=1, size=1000)\n",
    "\n",
    "plt.hist(x = randomvar_x)\n",
    "plt.xlabel(\"Variable a\")\n",
    "plt.ylabel(\"Frequency\")"
   ]
  },
  {
   "attachments": {},
   "cell_type": "markdown",
   "metadata": {},
   "source": [
    "<font size = \"5\">\n",
    "\n",
    "Try this again with $size = 100, 1000, 10000$"
   ]
  },
  {
   "cell_type": "code",
   "execution_count": null,
   "metadata": {},
   "outputs": [],
   "source": [
    "# Write the code for your histogram\n",
    "\n",
    "\n",
    "\n"
   ]
  },
  {
   "attachments": {},
   "cell_type": "markdown",
   "metadata": {},
   "source": [
    "# <span style=\"color:darkblue\"> Additional Resources </span>\n",
    "\n",
    "<font size=\"5\"> \n",
    "\n",
    "Check out additional examples at:\n",
    "\n",
    "- https://allendowney.github.io/ElementsOfDataScience/03_arrays.html\n",
    "\n",
    "\n"
   ]
  },
  {
   "attachments": {},
   "cell_type": "markdown",
   "metadata": {},
   "source": [
    "# <span style=\"color:darkblue\"> (Optional) Matrix Operations </span>\n",
    "\n",
    "<font size=\"5\"> \n"
   ]
  },
  {
   "attachments": {},
   "cell_type": "markdown",
   "metadata": {},
   "source": [
    "<font size = \"5\">\n",
    "Creating a matrix by stacking different rows\n",
    "\n",
    "$ \\text{ }$\n",
    "\n",
    "$ X = \\begin{pmatrix} 1 & 2 & 3 \\\\ \n",
    "                       0 & 4 & 5 \\\\\n",
    "                       0 & 0 & 6\n",
    "                       \\end{pmatrix} $"
   ]
  },
  {
   "cell_type": "code",
   "execution_count": 15,
   "metadata": {},
   "outputs": [
    {
     "name": "stdout",
     "output_type": "stream",
     "text": [
      "[[1 2 3]\n",
      " [0 4 5]\n",
      " [0 0 6]]\n"
     ]
    }
   ],
   "source": [
    "# Matrices are usually denoted by capital letters\n",
    "# The object [[1,2,3],[4,5,6],[7,8,9]] is a list of lists\n",
    "# It's useful to maintain this notation in the code as well\n",
    "\n",
    "X = np.array([[1,2,3],[0,4,5],[0,0,6]])\n",
    "print(X)"
   ]
  },
  {
   "attachments": {},
   "cell_type": "markdown",
   "metadata": {},
   "source": [
    "<font size = \"5\">\n",
    "Creating a matrix by stacking different columns\n",
    "\n",
    "$ \\text{ } $\n",
    "\n",
    "$ Y = \\begin{pmatrix} 1 & 2 \\\\ 0 & 1 \\\\ 1 & 0 \\end{pmatrix}$"
   ]
  },
  {
   "cell_type": "code",
   "execution_count": 16,
   "metadata": {},
   "outputs": [
    {
     "name": "stdout",
     "output_type": "stream",
     "text": [
      "[[1 2]\n",
      " [0 1]\n",
      " [1 0]]\n"
     ]
    }
   ],
   "source": [
    "# You can also stack columns\n",
    "Y =  np.column_stack([[1,0,1],[2,1,0]])\n",
    "print(Y)"
   ]
  },
  {
   "attachments": {},
   "cell_type": "markdown",
   "metadata": {},
   "source": [
    "<font size = \"5\">\n",
    "Transpose\n",
    "\n",
    "$ \\text{ }$\n",
    "\n",
    "$ Y' = \\begin{pmatrix}  1 & 0 & 1 \\\\ 2 & 1 & 0  \\end{pmatrix} $"
   ]
  },
  {
   "cell_type": "code",
   "execution_count": null,
   "metadata": {},
   "outputs": [
    {
     "data": {
      "text/plain": [
       "array([[1, 0, 1],\n",
       "       [2, 1, 0]])"
      ]
     },
     "execution_count": 15,
     "metadata": {},
     "output_type": "execute_result"
    }
   ],
   "source": [
    "# Matrix Transpose\n",
    "np.matrix.transpose(Y)"
   ]
  },
  {
   "attachments": {},
   "cell_type": "markdown",
   "metadata": {},
   "source": [
    "<font size = \"5\">\n",
    "\n",
    "Matrix multiplication\n",
    "\n",
    "$ XY = \\begin{pmatrix} 1 & 2 & 3 \\\\ \n",
    "                       0 & 4 & 5 \\\\\n",
    "                       0 & 0 & 6\n",
    "                       \\end{pmatrix}\n",
    "                       \\begin{pmatrix} 1 & 2 \\\\ 0 & 1 \\\\ 1 & 0 \\end{pmatrix} = \n",
    "        \\begin{pmatrix} 4 & 4 \\\\ 5 & 4 \\\\ 6 & 0 \\end{pmatrix} $"
   ]
  },
  {
   "cell_type": "code",
   "execution_count": 17,
   "metadata": {},
   "outputs": [
    {
     "data": {
      "text/plain": [
       "array([[4, 4],\n",
       "       [5, 4],\n",
       "       [6, 0]])"
      ]
     },
     "execution_count": 17,
     "metadata": {},
     "output_type": "execute_result"
    }
   ],
   "source": [
    "# Matrix Multiplication\n",
    "\n",
    "np.dot(X,Y)\n",
    "\n",
    "\n",
    "np.matmul(X,Y)"
   ]
  },
  {
   "attachments": {},
   "cell_type": "markdown",
   "metadata": {},
   "source": [
    "<font size = \"5\">\n",
    "\n",
    "Matrix inverse\n",
    "\n",
    "$ X^{-1} = \\begin{pmatrix} 1 & 2 & 3 \\\\ \n",
    "                       0 & 4 & 5 \\\\\n",
    "                       0 & 0 & 6\n",
    "                       \\end{pmatrix}^{-1} $"
   ]
  },
  {
   "cell_type": "code",
   "execution_count": null,
   "metadata": {},
   "outputs": [
    {
     "name": "stdout",
     "output_type": "stream",
     "text": [
      "23.999999999999993\n",
      "[[ 1.         -0.5        -0.08333333]\n",
      " [ 0.          0.25       -0.20833333]\n",
      " [ 0.          0.          0.16666667]]\n"
     ]
    }
   ],
   "source": [
    "# Check the determinant of a matrix (a matrix is invertible if the determinant is not zero)\n",
    "print(np.linalg.det(X))\n",
    "\n",
    "# Matrix inverse\n",
    "# The following command stands for linear algebrar inverse.\n",
    "X_inv = np.linalg.inv(X)\n",
    "\n",
    "# Output the result\n",
    "print(X_inv)\n"
   ]
  },
  {
   "attachments": {},
   "cell_type": "markdown",
   "metadata": {},
   "source": [
    "<font size = \"5\">\n",
    "\n",
    "Try it yourself! Check that this is indeed an inverse:\n",
    "\n",
    "$X X_{inv} = \\begin{pmatrix} 1 & 0 & 0 \\\\ 0 & 1 & 0 \\\\ 0 & 0 & 1 \\end{pmatrix}$"
   ]
  },
  {
   "cell_type": "code",
   "execution_count": null,
   "metadata": {},
   "outputs": [
    {
     "data": {
      "text/plain": [
       "array([[ 1.00000000e+00,  0.00000000e+00, -2.77555756e-17],\n",
       "       [ 0.00000000e+00,  1.00000000e+00,  2.77555756e-17],\n",
       "       [ 0.00000000e+00,  0.00000000e+00,  1.00000000e+00]])"
      ]
     },
     "execution_count": 66,
     "metadata": {},
     "output_type": "execute_result"
    }
   ],
   "source": [
    "# Multiply \"X\" times \"X_inv\" using the command shown above\n",
    "# Note: Sometimes the result is shown in scientific notation.\n",
    "\n",
    "\n",
    "\n",
    "np.matmul(X,X_inv)"
   ]
  }
 ],
 "metadata": {
  "kernelspec": {
   "display_name": "Python 3",
   "language": "python",
   "name": "python3"
  },
  "language_info": {
   "codemirror_mode": {
    "name": "ipython",
    "version": 3
   },
   "file_extension": ".py",
   "mimetype": "text/x-python",
   "name": "python",
   "nbconvert_exporter": "python",
   "pygments_lexer": "ipython3",
<<<<<<< HEAD
   "version": "3.11.1"
=======
   "version": "3.9.13 (main, Aug 25 2022, 18:29:29) \n[Clang 12.0.0 ]"
>>>>>>> upstream/main
  },
  "orig_nbformat": 4,
  "vscode": {
   "interpreter": {
    "hash": "aee8b7b246df8f9039afb4144a1f6fd8d2ca17a180786b69acc140d282b71a49"
   }
  }
 },
 "nbformat": 4,
 "nbformat_minor": 2
}
